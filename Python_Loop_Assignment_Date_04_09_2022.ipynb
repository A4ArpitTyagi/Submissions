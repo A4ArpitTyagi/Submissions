{
 "cells": [
  {
   "cell_type": "code",
   "execution_count": 17,
   "metadata": {},
   "outputs": [
    {
     "name": "stdout",
     "output_type": "stream",
     "text": [
      "[(13, 6), (12, 3), (9, 0), (5, 4), (1, 5), (1, 1)]\n"
     ]
    }
   ],
   "source": [
    "#Answer 1\n",
    "#Write a program using the following list and sort it based on the sum of the values of the tuples of the list:\n",
    "\n",
    "given_list = [(1,5),(9,0),(12,3),(5,4),(13,6),(1,1)]\n",
    "\n",
    "# Logic : I will compare the first element with the next and swap the position \n",
    "#         if the first one is smaller \n",
    "\n",
    "# In each iteration of the outler loop, smallest one will be placed at the correct position in descending order.\n",
    "\n",
    "for i in range(len(given_list)):\n",
    "    for j in range(len(given_list)-i-1):\n",
    "        # Comparing first element with next and swapping position if it is smaller and so on..\n",
    "        if (given_list[j][0] + given_list[j][1]) < given_list[j+1][0]+given_list[j+1][1]:\n",
    "            swap = given_list[j]  # Saving the smaller tuple in swap for the below swap process.\n",
    "            given_list[j] = given_list[j+1]\n",
    "            given_list[j+1] = swap\n",
    "        else:\n",
    "            continue\n",
    "\n",
    "# Finally list is Sorted and it is our final answer.\n",
    "print(given_list)"
   ]
  },
  {
   "cell_type": "code",
   "execution_count": 2,
   "metadata": {},
   "outputs": [
    {
     "name": "stdout",
     "output_type": "stream",
     "text": [
      "10 400\n",
      "20 300\n",
      "30 200\n",
      "40 100\n"
     ]
    }
   ],
   "source": [
    "#Answer 2\n",
    "# Given a two Python list. Iterate both lists simultaneously such that:\n",
    "# list1 should display item in original order and list2 in reverse order\n",
    "\n",
    "list1 = [10, 20, 30, 40]\n",
    "list2 = [100, 200, 300, 400]\n",
    "\n",
    "# We need to print list1 in normal order where as list2 in reverse order simultaneously.\n",
    "\n",
    "# final answer\n",
    "for i in range(len(list1)):\n",
    "    print(list1[i],list2[-i-1])   #(-i-1) will help printing in reverse for list 2.\n",
    "\n",
    "    "
   ]
  },
  {
   "cell_type": "code",
   "execution_count": 3,
   "metadata": {},
   "outputs": [
    {
     "name": "stdout",
     "output_type": "stream",
     "text": [
      "1 is Odd\n",
      "2 is Even\n",
      "3 is Odd\n",
      "4 is Even\n",
      "5 is Odd\n",
      "6 is Even\n",
      "7 is Odd\n",
      "8 is Even\n",
      "9 is Odd\n",
      "10 is Even\n"
     ]
    }
   ],
   "source": [
    "#Answer 3\n",
    "#Given number 1 through 10, write a program to display \"Even\" for even numbers and \"Odd\" for odd numbers.\n",
    "\n",
    "# Numbers from 1 to 10 are given\n",
    "given_numbers = list(range(1,11))\n",
    "\n",
    "# Now, we need to show Even for Even numbers and Odd for odd numbers above.\n",
    "\n",
    "# Using modulo operator to know the even/odd properties.\n",
    "for i in given_numbers:\n",
    "    if (i%2 == 0):\n",
    "        print(i,\"is Even\")\n",
    "    else:\n",
    "        print(i,\"is Odd\")\n",
    "\n"
   ]
  },
  {
   "cell_type": "code",
   "execution_count": 4,
   "metadata": {},
   "outputs": [
    {
     "name": "stdout",
     "output_type": "stream",
     "text": [
      "Total count of strings is: 4\n"
     ]
    }
   ],
   "source": [
    "#Answer 4:\n",
    "#We have been given a set of Strings and two conditions which , if satisfies, need to be counted.\n",
    "\n",
    "#Given list of Strings:\n",
    "given_string=['abc', 'xyz', 'aba', '1221', 'bhgsskknb', 'aa','d']\n",
    "\n",
    "#condition 1 is : string length should be 2 or more\n",
    "#condition 2 is : first and last character should be same.\n",
    "\n",
    "#Lets take a variable 'count' which will store our 'future answer'.\n",
    "counter = 0\n",
    "\n",
    "for i in given_string:\n",
    "    if (len(i) >= 2) and ((i)[0]==(i)[-1]):   # Both conditions have been applied\n",
    "        counter+=1                            # Increase the counter by 1 if both the conditions are satisfied\n",
    "\n",
    "# Final Answer\n",
    "print(\"Total count of strings is:\",counter)\n"
   ]
  },
  {
   "cell_type": "code",
   "execution_count": 10,
   "metadata": {},
   "outputs": [
    {
     "name": "stdout",
     "output_type": "stream",
     "text": [
      "Enter First Number: 1\n",
      "Enter Second Number: 2\n",
      "Enter Third Number: 3\n",
      "Enter Fourth Number: 4\n",
      "Enter Fifth Number: 5\n",
      "Average of 5 inputted numbers is:  3.0\n"
     ]
    }
   ],
   "source": [
    "# Answer 5: \n",
    "# collect 5 different numbers from a user and display the average of the five numbers\n",
    "# without storing the values collected at any point.\n",
    "\n",
    "print('Average of 5 inputted numbers is: ',(float(input(\"Enter First Number: \"))+\n",
    "                                            float(input(\"Enter Second Number: \"))+\n",
    "                                            float(input(\"Enter Third Number: \"))+\n",
    "                                            float(input(\"Enter Fourth Number: \"))+\n",
    "                                            float(input(\"Enter Fifth Number: \")))/(5.0))"
   ]
  },
  {
   "cell_type": "code",
   "execution_count": 19,
   "metadata": {},
   "outputs": [
    {
     "name": "stdout",
     "output_type": "stream",
     "text": [
      "{1: 'a', 2: 'b', 3: 'c', 4: 'd', 5: 'e'}\n"
     ]
    },
    {
     "data": {
      "text/plain": [
       "{1: 'a', 2: 'b', 3: 'c', 4: 'd', 5: 'e'}"
      ]
     },
     "execution_count": 19,
     "metadata": {},
     "output_type": "execute_result"
    }
   ],
   "source": [
    "# Answer 6\n",
    "# write a program such that \"list1\" will act as keys while \"list2\" will act as the values of the dictionary:\n",
    "\n",
    "list1 = [1, 2, 3, 4, 5]\n",
    "list2 = [\"a\", \"b\", \"c\",\"d\", \"e\"] \n",
    "\n",
    "# Using Dict Comprehesion similar to List Comprehension for the same\n",
    "result = {list1[i]:list2[i] for i in range(len(list1))}\n",
    "\n",
    "print(result)\n",
    "\n"
   ]
  },
  {
   "cell_type": "code",
   "execution_count": null,
   "metadata": {},
   "outputs": [],
   "source": []
  }
 ],
 "metadata": {
  "kernelspec": {
   "display_name": "Python 3",
   "language": "python",
   "name": "python3"
  },
  "language_info": {
   "codemirror_mode": {
    "name": "ipython",
    "version": 3
   },
   "file_extension": ".py",
   "mimetype": "text/x-python",
   "name": "python",
   "nbconvert_exporter": "python",
   "pygments_lexer": "ipython3",
   "version": "3.7.0"
  }
 },
 "nbformat": 4,
 "nbformat_minor": 2
}
